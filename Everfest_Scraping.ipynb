{
 "cells": [
  {
   "cell_type": "code",
   "execution_count": 1,
   "metadata": {},
   "outputs": [
    {
     "ename": "ModuleNotFoundError",
     "evalue": "No module named 'selenium'",
     "output_type": "error",
     "traceback": [
      "\u001b[1;31m---------------------------------------------------------------------------\u001b[0m",
      "\u001b[1;31mModuleNotFoundError\u001b[0m                       Traceback (most recent call last)",
      "\u001b[1;32m<ipython-input-1-b8f6ea696b07>\u001b[0m in \u001b[0;36m<module>\u001b[1;34m\u001b[0m\n\u001b[0;32m      1\u001b[0m \u001b[1;32mimport\u001b[0m \u001b[0mpandas\u001b[0m \u001b[1;32mas\u001b[0m \u001b[0mpd\u001b[0m\u001b[1;33m\u001b[0m\u001b[1;33m\u001b[0m\u001b[0m\n\u001b[0;32m      2\u001b[0m \u001b[1;32mfrom\u001b[0m \u001b[0mbs4\u001b[0m \u001b[1;32mimport\u001b[0m \u001b[0mBeautifulSoup\u001b[0m\u001b[1;33m\u001b[0m\u001b[1;33m\u001b[0m\u001b[0m\n\u001b[1;32m----> 3\u001b[1;33m \u001b[1;32mfrom\u001b[0m \u001b[0mselenium\u001b[0m \u001b[1;32mimport\u001b[0m \u001b[0mwebdriver\u001b[0m\u001b[1;33m\u001b[0m\u001b[1;33m\u001b[0m\u001b[0m\n\u001b[0m\u001b[0;32m      4\u001b[0m \u001b[1;32mimport\u001b[0m \u001b[0mchromedriver_binary\u001b[0m\u001b[1;33m\u001b[0m\u001b[1;33m\u001b[0m\u001b[0m\n\u001b[0;32m      5\u001b[0m \u001b[1;32mimport\u001b[0m \u001b[0mtime\u001b[0m\u001b[1;33m\u001b[0m\u001b[1;33m\u001b[0m\u001b[0m\n",
      "\u001b[1;31mModuleNotFoundError\u001b[0m: No module named 'selenium'"
     ]
    }
   ],
   "source": [
    "import pandas as pd\n",
    "from bs4 import BeautifulSoup\n",
    "from selenium import webdriver\n",
    "import chromedriver_binary \n",
    "import time\n",
    "\n",
    "from selenium.common.exceptions import StaleElementReferenceException\n",
    "from selenium.common.exceptions import TimeoutException\n",
    "from selenium.webdriver.support.ui import WebDriverWait\n",
    "from selenium.webdriver.support import expected_conditions\n",
    "from selenium.webdriver.common.by import By"
   ]
  },
  {
   "cell_type": "code",
   "execution_count": null,
   "metadata": {},
   "outputs": [],
   "source": [
    "driver = webdriver.Chrome()\n",
    "url = \"https://www.everfest.com/lists/food-beer-wine-festivals\" "
   ]
  },
  {
   "cell_type": "code",
   "execution_count": null,
   "metadata": {},
   "outputs": [],
   "source": [
    "driver.get(url)\n",
    "time.sleep(10)"
   ]
  },
  {
   "cell_type": "code",
   "execution_count": null,
   "metadata": {},
   "outputs": [],
   "source": [
    "soup = BeautifulSoup(driver.page_source, 'lxml')"
   ]
  },
  {
   "cell_type": "code",
   "execution_count": null,
   "metadata": {},
   "outputs": [],
   "source": [
    "soup"
   ]
  },
  {
   "cell_type": "code",
   "execution_count": null,
   "metadata": {},
   "outputs": [],
   "source": [
    "count = 0\n",
    "for s in soup:\n",
    "    count +=1\n",
    "    print(count)\n",
    "    print(s)\n",
    "    break\n",
    "    \n",
    "# identify in inspect where this object starts and ends -- figure out if it is one review we are targeting or more\n",
    "# figure out how to pick out objects using BeautifulSoup (how to do .find for div = data_react_class)"
   ]
  },
  {
   "cell_type": "code",
   "execution_count": null,
   "metadata": {},
   "outputs": [],
   "source": [
    "results = soup.find_all(\"li\", {\"class\":\"page\"})\n",
    "print(results)"
   ]
  },
  {
   "cell_type": "code",
   "execution_count": null,
   "metadata": {},
   "outputs": [],
   "source": [
    "element = driver.find_element_by_xpath(\"//*[@id='pages']/div[6]/div/div[1]/ul/li[2]/a\")"
   ]
  },
  {
   "cell_type": "code",
   "execution_count": null,
   "metadata": {},
   "outputs": [],
   "source": [
    "dir(element)"
   ]
  },
  {
   "cell_type": "code",
   "execution_count": null,
   "metadata": {},
   "outputs": [],
   "source": [
    "element.text"
   ]
  },
  {
   "cell_type": "code",
   "execution_count": null,
   "metadata": {},
   "outputs": [],
   "source": [
    "element.click()"
   ]
  },
  {
   "cell_type": "code",
   "execution_count": null,
   "metadata": {},
   "outputs": [],
   "source": [
    "def ScrapeEverfest(url, browser = \"chrome\"):\n",
    "    # create a new session\n",
    "    driver = webdriver.Chrome()\n",
    "    driver.get(url)\n",
    "\n",
    "    # collecting reviews  \n",
    "    more = True # flag for 'more reviews' button\n",
    "    k = 0 # counting successful clicks of the 'more reviews' button\n",
    "    while more:\n",
    "        print('click ' + str(k))\n",
    "        try: \n",
    "            # look for the button, up to 30 sec, or until the button is located\n",
    "            button = button = WebDriverWait(driver, 30).until(expected_conditions.presence_of_element_located( \\\n",
    "                             (By.XPATH, \"//a[@href=/lists/food-beer-wine-festivals/page/\" + str(1+k) + \"]\")))            \n",
    "            button.click() # try to click the button for more reviews\n",
    "            k+=1 # if successful add one to the counter\n",
    "        except StaleElementReferenceException as e: # if the button is not attached to the page\n",
    "            print('click ' + str(k)) # print the number of successful clicks thus far\n",
    "            print(e) # print the StaleElementReferenceException\n",
    "            # We keep trying scene more is True\n",
    "        except TimeoutException: # if the WebDriverWait times out\n",
    "            # then the button did not exist with in 30 sec (NoSuchElementException)\n",
    "            print('click ' + str(k)) # print the number of successful clicks thus far\n",
    "            print('no more reviews') \n",
    "            more = False # the first iteration without a 'more reviews' button will be the last\n",
    "\n",
    "    # page source formatting with Beautiful Soup\n",
    "    soup = BeautifulSoup(driver.page_source, 'lxml')\n",
    "    # find all reviews \n",
    "    festivalPage = soup.find_all('div',{'class':'festival-card__footer'})\n",
    "\n",
    "    # end browser session\n",
    "    driver.quit()\n",
    "    print(str(len(festivalPage)) + ' festivals collected')\n",
    "    return festivalPage"
   ]
  },
  {
   "cell_type": "code",
   "execution_count": null,
   "metadata": {},
   "outputs": [],
   "source": [
    "for i in range(3):\n",
    "    print('abcd%shi%sjk' % (i,i*i))"
   ]
  },
  {
   "cell_type": "code",
   "execution_count": 2,
   "metadata": {},
   "outputs": [
    {
     "ename": "NameError",
     "evalue": "name 'webdriver' is not defined",
     "output_type": "error",
     "traceback": [
      "\u001b[1;31m---------------------------------------------------------------------------\u001b[0m",
      "\u001b[1;31mNameError\u001b[0m                                 Traceback (most recent call last)",
      "\u001b[1;32m<ipython-input-2-0541b1238c9d>\u001b[0m in \u001b[0;36m<module>\u001b[1;34m\u001b[0m\n\u001b[1;32m----> 1\u001b[1;33m \u001b[0mdriver\u001b[0m \u001b[1;33m=\u001b[0m \u001b[0mwebdriver\u001b[0m\u001b[1;33m.\u001b[0m\u001b[0mChrome\u001b[0m\u001b[1;33m(\u001b[0m\u001b[1;33m)\u001b[0m\u001b[1;33m\u001b[0m\u001b[1;33m\u001b[0m\u001b[0m\n\u001b[0m\u001b[0;32m      2\u001b[0m \u001b[0mdriver\u001b[0m\u001b[1;33m.\u001b[0m\u001b[0mget\u001b[0m\u001b[1;33m(\u001b[0m\u001b[0murl\u001b[0m\u001b[1;33m)\u001b[0m\u001b[1;33m\u001b[0m\u001b[1;33m\u001b[0m\u001b[0m\n",
      "\u001b[1;31mNameError\u001b[0m: name 'webdriver' is not defined"
     ]
    }
   ],
   "source": [
    "driver = webdriver.Chrome()\n",
    "driver.get(url)"
   ]
  },
  {
   "cell_type": "code",
   "execution_count": 3,
   "metadata": {},
   "outputs": [
    {
     "ename": "NameError",
     "evalue": "name 'WebDriverWait' is not defined",
     "output_type": "error",
     "traceback": [
      "\u001b[1;31m---------------------------------------------------------------------------\u001b[0m",
      "\u001b[1;31mNameError\u001b[0m                                 Traceback (most recent call last)",
      "\u001b[1;32m<ipython-input-3-51412660c12a>\u001b[0m in \u001b[0;36m<module>\u001b[1;34m\u001b[0m\n\u001b[1;32m----> 1\u001b[1;33m button = WebDriverWait(driver, 30).until(expected_conditions.presence_of_element_located( \\\n\u001b[0m\u001b[0;32m      2\u001b[0m                          (By.XPATH, \"//*[@id='pages']/div[5]/div/div[1]/ul/li[5]/a\")))\n\u001b[0;32m      3\u001b[0m \u001b[0mbutton\u001b[0m\u001b[1;33m.\u001b[0m\u001b[0mclick\u001b[0m\u001b[1;33m(\u001b[0m\u001b[1;33m)\u001b[0m\u001b[1;33m\u001b[0m\u001b[1;33m\u001b[0m\u001b[0m\n",
      "\u001b[1;31mNameError\u001b[0m: name 'WebDriverWait' is not defined"
     ]
    }
   ],
   "source": [
    "button = WebDriverWait(driver, 30).until(expected_conditions.presence_of_element_located( \\\n",
    "                         (By.XPATH, \"//*[@id='pages']/div[5]/div/div[1]/ul/li[5]/a\")))\n",
    "button.click()"
   ]
  },
  {
   "cell_type": "code",
   "execution_count": 189,
   "metadata": {},
   "outputs": [
    {
     "ename": "SyntaxError",
     "evalue": "invalid syntax (<ipython-input-189-16f8f02896e6>, line 1)",
     "output_type": "error",
     "traceback": [
      "\u001b[1;36m  File \u001b[1;32m\"<ipython-input-189-16f8f02896e6>\"\u001b[1;36m, line \u001b[1;32m1\u001b[0m\n\u001b[1;33m    //*[@id=\"pages\"]/div[5]/div/div[1]/ul/li[5]/a\u001b[0m\n\u001b[1;37m     ^\u001b[0m\n\u001b[1;31mSyntaxError\u001b[0m\u001b[1;31m:\u001b[0m invalid syntax\n"
     ]
    }
   ],
   "source": [
    "//*[@id=\"pages\"]/div[5]/div/div[1]/ul/li[5]/a\n",
    "//*[@id=\"pages\"]/div[5]/div/div[1]/ul/li[8]/a\n",
    "//*[@id=\"pages\"]/div[5]/div/div[1]/ul/li[9]/a\n",
    "//*[@id=\"pages\"]/div[5]/div/div[1]/ul/li[10]/a"
   ]
  },
  {
   "cell_type": "code",
   "execution_count": 190,
   "metadata": {},
   "outputs": [],
   "source": [
    "def ProcessEverfest(festivalPage):\n",
    " \n",
    "    df1 = pd.DataFrame()\n",
    "    for festival in festivalPage:\n",
    "        festivals = {}\n",
    "        #festivals['Festival_Name'] = Festival_Name\n",
    "        try:\n",
    "            festivals['Festival_Name'] = festival.find(string='festival-card__title truncate gray-link').find_parent(class_=True)\\\n",
    "                                        .find(class_='festival-card__footer').string\n",
    "        except: \n",
    "            festivals['Festival_Name'] = [None]\n",
    "        try:\n",
    "            festivals['Festival_Date'] = festival.find(string='festival-card__title truncate gray-link').find_parent(class_=True)\\\n",
    "                                        .find(class_='festival-card__date').string\n",
    "        except: \n",
    "            festivals['Festival_Date'] = [None]\n",
    "        try:\n",
    "            festivals['Festival_Loc'] = festival.find(string='festival-card__title truncate gray-link').find_parent(class_=True)\\\n",
    "                                        .find(class_='festival-card__location truncate').string\n",
    "        except: \n",
    "            festivals['Festival_Loc'] = [None]\n",
    "\n",
    "\n",
    "        df = pd.DataFrame(festivals, index=[0])\n",
    "        df1 = df1.append(df, ignore_index=True)\n",
    "    return df1"
   ]
  },
  {
   "cell_type": "code",
   "execution_count": 191,
   "metadata": {},
   "outputs": [
    {
     "name": "stdout",
     "output_type": "stream",
     "text": [
      "click 0\n",
      "click 0\n",
      "no more reviews\n",
      "24 festivals collected\n"
     ]
    }
   ],
   "source": [
    "festivalPage = ScrapeEverfest(url = \"https://www.everfest.com/lists/food-beer-wine-festivals\")"
   ]
  },
  {
   "cell_type": "code",
   "execution_count": 192,
   "metadata": {},
   "outputs": [
    {
     "data": {
      "text/html": [
       "<div>\n",
       "<style scoped>\n",
       "    .dataframe tbody tr th:only-of-type {\n",
       "        vertical-align: middle;\n",
       "    }\n",
       "\n",
       "    .dataframe tbody tr th {\n",
       "        vertical-align: top;\n",
       "    }\n",
       "\n",
       "    .dataframe thead th {\n",
       "        text-align: right;\n",
       "    }\n",
       "</style>\n",
       "<table border=\"1\" class=\"dataframe\">\n",
       "  <thead>\n",
       "    <tr style=\"text-align: right;\">\n",
       "      <th></th>\n",
       "      <th>Festival_Name</th>\n",
       "      <th>Festival_Date</th>\n",
       "      <th>Festival_Loc</th>\n",
       "    </tr>\n",
       "  </thead>\n",
       "  <tbody>\n",
       "    <tr>\n",
       "      <th>0</th>\n",
       "      <td>None</td>\n",
       "      <td>None</td>\n",
       "      <td>None</td>\n",
       "    </tr>\n",
       "    <tr>\n",
       "      <th>1</th>\n",
       "      <td>None</td>\n",
       "      <td>None</td>\n",
       "      <td>None</td>\n",
       "    </tr>\n",
       "    <tr>\n",
       "      <th>2</th>\n",
       "      <td>None</td>\n",
       "      <td>None</td>\n",
       "      <td>None</td>\n",
       "    </tr>\n",
       "    <tr>\n",
       "      <th>3</th>\n",
       "      <td>None</td>\n",
       "      <td>None</td>\n",
       "      <td>None</td>\n",
       "    </tr>\n",
       "    <tr>\n",
       "      <th>4</th>\n",
       "      <td>None</td>\n",
       "      <td>None</td>\n",
       "      <td>None</td>\n",
       "    </tr>\n",
       "    <tr>\n",
       "      <th>5</th>\n",
       "      <td>None</td>\n",
       "      <td>None</td>\n",
       "      <td>None</td>\n",
       "    </tr>\n",
       "    <tr>\n",
       "      <th>6</th>\n",
       "      <td>None</td>\n",
       "      <td>None</td>\n",
       "      <td>None</td>\n",
       "    </tr>\n",
       "    <tr>\n",
       "      <th>7</th>\n",
       "      <td>None</td>\n",
       "      <td>None</td>\n",
       "      <td>None</td>\n",
       "    </tr>\n",
       "    <tr>\n",
       "      <th>8</th>\n",
       "      <td>None</td>\n",
       "      <td>None</td>\n",
       "      <td>None</td>\n",
       "    </tr>\n",
       "    <tr>\n",
       "      <th>9</th>\n",
       "      <td>None</td>\n",
       "      <td>None</td>\n",
       "      <td>None</td>\n",
       "    </tr>\n",
       "    <tr>\n",
       "      <th>10</th>\n",
       "      <td>None</td>\n",
       "      <td>None</td>\n",
       "      <td>None</td>\n",
       "    </tr>\n",
       "    <tr>\n",
       "      <th>11</th>\n",
       "      <td>None</td>\n",
       "      <td>None</td>\n",
       "      <td>None</td>\n",
       "    </tr>\n",
       "    <tr>\n",
       "      <th>12</th>\n",
       "      <td>None</td>\n",
       "      <td>None</td>\n",
       "      <td>None</td>\n",
       "    </tr>\n",
       "    <tr>\n",
       "      <th>13</th>\n",
       "      <td>None</td>\n",
       "      <td>None</td>\n",
       "      <td>None</td>\n",
       "    </tr>\n",
       "    <tr>\n",
       "      <th>14</th>\n",
       "      <td>None</td>\n",
       "      <td>None</td>\n",
       "      <td>None</td>\n",
       "    </tr>\n",
       "    <tr>\n",
       "      <th>15</th>\n",
       "      <td>None</td>\n",
       "      <td>None</td>\n",
       "      <td>None</td>\n",
       "    </tr>\n",
       "    <tr>\n",
       "      <th>16</th>\n",
       "      <td>None</td>\n",
       "      <td>None</td>\n",
       "      <td>None</td>\n",
       "    </tr>\n",
       "    <tr>\n",
       "      <th>17</th>\n",
       "      <td>None</td>\n",
       "      <td>None</td>\n",
       "      <td>None</td>\n",
       "    </tr>\n",
       "    <tr>\n",
       "      <th>18</th>\n",
       "      <td>None</td>\n",
       "      <td>None</td>\n",
       "      <td>None</td>\n",
       "    </tr>\n",
       "    <tr>\n",
       "      <th>19</th>\n",
       "      <td>None</td>\n",
       "      <td>None</td>\n",
       "      <td>None</td>\n",
       "    </tr>\n",
       "    <tr>\n",
       "      <th>20</th>\n",
       "      <td>None</td>\n",
       "      <td>None</td>\n",
       "      <td>None</td>\n",
       "    </tr>\n",
       "    <tr>\n",
       "      <th>21</th>\n",
       "      <td>None</td>\n",
       "      <td>None</td>\n",
       "      <td>None</td>\n",
       "    </tr>\n",
       "    <tr>\n",
       "      <th>22</th>\n",
       "      <td>None</td>\n",
       "      <td>None</td>\n",
       "      <td>None</td>\n",
       "    </tr>\n",
       "    <tr>\n",
       "      <th>23</th>\n",
       "      <td>None</td>\n",
       "      <td>None</td>\n",
       "      <td>None</td>\n",
       "    </tr>\n",
       "  </tbody>\n",
       "</table>\n",
       "</div>"
      ],
      "text/plain": [
       "   Festival_Name Festival_Date Festival_Loc\n",
       "0           None          None         None\n",
       "1           None          None         None\n",
       "2           None          None         None\n",
       "3           None          None         None\n",
       "4           None          None         None\n",
       "5           None          None         None\n",
       "6           None          None         None\n",
       "7           None          None         None\n",
       "8           None          None         None\n",
       "9           None          None         None\n",
       "10          None          None         None\n",
       "11          None          None         None\n",
       "12          None          None         None\n",
       "13          None          None         None\n",
       "14          None          None         None\n",
       "15          None          None         None\n",
       "16          None          None         None\n",
       "17          None          None         None\n",
       "18          None          None         None\n",
       "19          None          None         None\n",
       "20          None          None         None\n",
       "21          None          None         None\n",
       "22          None          None         None\n",
       "23          None          None         None"
      ]
     },
     "execution_count": 192,
     "metadata": {},
     "output_type": "execute_result"
    }
   ],
   "source": [
    "dat = ProcessEverfest(festivalPage = festivalPage)\n",
    "dat"
   ]
  },
  {
   "cell_type": "code",
   "execution_count": null,
   "metadata": {},
   "outputs": [],
   "source": [
    "for i in festival.find_all(class_='ReviewSection__Root-sc-189472c-0 icjcMH'):\n",
    "            if 'Overall:' in i.getText().strip():\n",
    "                reviews['Overall_Review'] = i.getText().replace('Overall:', '').replace('\\xa0', '').strip()\n",
    "            if 'Pros:' in i.getText().strip():\n",
    "                reviews['Pros_Review'] = i.getText().replace('Pros:', '').replace('\\xa0', '').strip()\n",
    "            if 'Cons:' in i.getText().strip():\n",
    "                reviews['Cons_Review'] = i.getText().replace('Cons:', '').replace('\\xa0', '').strip()\n",
    "            if 'Alternatives Considered:' in i.getText().strip():\n",
    "                reviews['alternative'] = i.getText().replace('Alternatives Considered:', '')\\\n",
    "                                                    .replace('\\xa0', '').strip()\n",
    "            if 'Reasons for Choosing' in i.getText().strip():\n",
    "                reviews['reasons_choosing'] = i.getText().replace('Reasons for Choosing ' + Company_str + ':', '')\\\n",
    "                                                    .replace('\\xa0', '').strip()\n",
    "            if 'Reasons for Switching' in i.getText().strip():\n",
    "                reviews['reasons_choosing'] = i.getText().replace('Reasons for Switching to ' + Company_str + ':', '')\\\n",
    "                                                    .replace('\\xa0', '').strip()\n",
    "        for i in review.find_all(class_='ReviewSource__HalfUnitMarginDiv-lnjke6-1 hiJhEB'):\n",
    "            if 'Source' not in i.getText().strip():\n",
    "                reviews['Date'] = i.getText().replace('\\xa0', '').strip()"
   ]
  },
  {
   "cell_type": "code",
   "execution_count": null,
   "metadata": {},
   "outputs": [],
   "source": [
    "/html/body/div[5]/div/div[1]/ul/li[8]/a\n",
    "/html/body/div[5]/div/div[1]/ul/li[9]/a\n",
    "//*[@id=\"pages\"]/div[5]/div/div[1]/ul/li[9]\n",
    "//*[@id=\"pages\"]/div[5]/div/div[1]/ul/li[6]"
   ]
  }
 ],
 "metadata": {
  "kernelspec": {
   "display_name": "Python 3",
   "language": "python",
   "name": "python3"
  },
  "language_info": {
   "codemirror_mode": {
    "name": "ipython",
    "version": 3
   },
   "file_extension": ".py",
   "mimetype": "text/x-python",
   "name": "python",
   "nbconvert_exporter": "python",
   "pygments_lexer": "ipython3",
   "version": "3.8.5"
  }
 },
 "nbformat": 4,
 "nbformat_minor": 4
}
