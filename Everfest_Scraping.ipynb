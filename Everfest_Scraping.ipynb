{
 "cells": [
  {
   "cell_type": "code",
   "execution_count": null,
   "metadata": {},
   "outputs": [],
   "source": [
    "import pandas as pd\n",
    "from bs4 import BeautifulSoup\n",
    "from selenium import webdriver\n",
    "import chromedriver_binary \n",
    "import time\n",
    "\n",
    "from selenium.common.exceptions import StaleElementReferenceException\n",
    "from selenium.common.exceptions import TimeoutException\n",
    "from selenium.webdriver.support.ui import WebDriverWait\n",
    "from selenium.webdriver.support import expected_conditions\n",
    "from selenium.webdriver.common.by import By"
   ]
  },
  {
   "cell_type": "code",
   "execution_count": null,
   "metadata": {},
   "outputs": [],
   "source": [
    "driver = webdriver.Chrome()\n",
    "url = \"https://www.everfest.com/lists/food-beer-wine-festivals\" "
   ]
  },
  {
   "cell_type": "code",
   "execution_count": null,
   "metadata": {},
   "outputs": [],
   "source": [
    "driver.get(url)\n",
    "time.sleep(10)"
   ]
  },
  {
   "cell_type": "code",
   "execution_count": null,
   "metadata": {},
   "outputs": [],
   "source": [
    "soup = BeautifulSoup(driver.page_source, 'lxml')"
   ]
  },
  {
   "cell_type": "code",
   "execution_count": null,
   "metadata": {},
   "outputs": [],
   "source": [
    "soup"
   ]
  },
  {
   "cell_type": "code",
   "execution_count": null,
   "metadata": {},
   "outputs": [],
   "source": [
    "count = 0\n",
    "for s in soup:\n",
    "    count +=1\n",
    "    print(count)\n",
    "    print(s)\n",
    "    break\n",
    "    \n",
    "# identify in inspect where this object starts and ends -- figure out if it is one review we are targeting or more\n",
    "# figure out how to pick out objects using BeautifulSoup (how to do .find for div = data_react_class)"
   ]
  },
  {
   "cell_type": "code",
   "execution_count": null,
   "metadata": {},
   "outputs": [],
   "source": [
    "results = soup.find_all(\"li\", {\"class\":\"page\"})\n",
    "print(results)"
   ]
  },
  {
   "cell_type": "code",
   "execution_count": null,
   "metadata": {},
   "outputs": [],
   "source": [
    "element = driver.find_element_by_xpath(\"//*[@id='pages']/div[6]/div/div[1]/ul/li[2]/a\")"
   ]
  },
  {
   "cell_type": "code",
   "execution_count": null,
   "metadata": {},
   "outputs": [],
   "source": [
    "dir(element)"
   ]
  },
  {
   "cell_type": "code",
   "execution_count": null,
   "metadata": {},
   "outputs": [],
   "source": [
    "element.text"
   ]
  },
  {
   "cell_type": "code",
   "execution_count": null,
   "metadata": {},
   "outputs": [],
   "source": [
    "element.click()"
   ]
  },
  {
   "cell_type": "code",
   "execution_count": null,
   "metadata": {},
   "outputs": [],
   "source": [
    "def ScrapeEverfest(url, browser = \"chrome\"):\n",
    "    # create a new session\n",
    "    driver = webdriver.Chrome()\n",
    "    driver.get(url)\n",
    "\n",
    "    # collecting reviews  \n",
    "    more = True # flag for 'more reviews' button\n",
    "    k = 0 # counting successful clicks of the 'more reviews' button\n",
    "    while more:\n",
    "        print('click ' + str(k))\n",
    "        try: \n",
    "            # look for the button, up to 30 sec, or until the button is located\n",
    "            button = button = WebDriverWait(driver, 30).until(expected_conditions.presence_of_element_located( \\\n",
    "                             (By.XPATH, \"//a[@href=/lists/food-beer-wine-festivals/page/\" + str(1+k) + \"]\")))            \n",
    "            button.click() # try to click the button for more reviews\n",
    "            k+=1 # if successful add one to the counter\n",
    "        except StaleElementReferenceException as e: # if the button is not attached to the page\n",
    "            print('click ' + str(k)) # print the number of successful clicks thus far\n",
    "            print(e) # print the StaleElementReferenceException\n",
    "            # We keep trying scene more is True\n",
    "        except TimeoutException: # if the WebDriverWait times out\n",
    "            # then the button did not exist with in 30 sec (NoSuchElementException)\n",
    "            print('click ' + str(k)) # print the number of successful clicks thus far\n",
    "            print('no more reviews') \n",
    "            more = False # the first iteration without a 'more reviews' button will be the last\n",
    "\n",
    "    # page source formatting with Beautiful Soup\n",
    "    soup = BeautifulSoup(driver.page_source, 'lxml')\n",
    "    # find all reviews \n",
    "    festivalPage = soup.find_all('div',{'class':'festival-card__footer'})\n",
    "\n",
    "    # end browser session\n",
    "    driver.quit()\n",
    "    print(str(len(festivalPage)) + ' festivals collected')\n",
    "    return festivalPage"
   ]
  },
  {
   "cell_type": "code",
   "execution_count": null,
   "metadata": {},
   "outputs": [],
   "source": [
    "for i in range(3):\n",
    "    print('abcd%shi%sjk' % (i,i*i))"
   ]
  },
  {
   "cell_type": "code",
   "execution_count": null,
   "metadata": {},
   "outputs": [],
   "source": [
    "driver = webdriver.Chrome()\n",
    "driver.get(url)"
   ]
  },
  {
   "cell_type": "code",
   "execution_count": null,
   "metadata": {},
   "outputs": [],
   "source": [
    "button = WebDriverWait(driver, 30).until(expected_conditions.presence_of_element_located( \\\n",
    "                         (By.XPATH, \"//*[@id='pages']/div[5]/div/div[1]/ul/li[5]/a\")))\n",
    "button.click()"
   ]
  },
  {
   "cell_type": "code",
   "execution_count": null,
   "metadata": {},
   "outputs": [],
   "source": [
    "//*[@id=\"pages\"]/div[5]/div/div[1]/ul/li[5]/a\n",
    "//*[@id=\"pages\"]/div[5]/div/div[1]/ul/li[8]/a\n",
    "//*[@id=\"pages\"]/div[5]/div/div[1]/ul/li[9]/a\n",
    "//*[@id=\"pages\"]/div[5]/div/div[1]/ul/li[10]/a"
   ]
  },
  {
   "cell_type": "code",
   "execution_count": null,
   "metadata": {},
   "outputs": [],
   "source": [
    "def ProcessEverfest(festivalPage):\n",
    " \n",
    "    df1 = pd.DataFrame()\n",
    "    for festival in festivalPage:\n",
    "        festivals = {}\n",
    "        #festivals['Festival_Name'] = Festival_Name\n",
    "        try:\n",
    "            festivals['Festival_Name'] = festival.find(string='festival-card__title truncate gray-link').find_parent(class_=True)\\\n",
    "                                        .find(class_='festival-card__footer').string\n",
    "        except: \n",
    "            festivals['Festival_Name'] = [None]\n",
    "        try:\n",
    "            festivals['Festival_Date'] = festival.find(string='festival-card__title truncate gray-link').find_parent(class_=True)\\\n",
    "                                        .find(class_='festival-card__date').string\n",
    "        except: \n",
    "            festivals['Festival_Date'] = [None]\n",
    "        try:\n",
    "            festivals['Festival_Loc'] = festival.find(string='festival-card__title truncate gray-link').find_parent(class_=True)\\\n",
    "                                        .find(class_='festival-card__location truncate').string\n",
    "        except: \n",
    "            festivals['Festival_Loc'] = [None]\n",
    "\n",
    "\n",
    "        df = pd.DataFrame(festivals, index=[0])\n",
    "        df1 = df1.append(df, ignore_index=True)\n",
    "    return df1"
   ]
  },
  {
   "cell_type": "code",
   "execution_count": null,
   "metadata": {},
   "outputs": [],
   "source": [
    "festivalPage = ScrapeEverfest(url = \"https://www.everfest.com/lists/food-beer-wine-festivals\")"
   ]
  },
  {
   "cell_type": "code",
   "execution_count": null,
   "metadata": {},
   "outputs": [],
   "source": [
    "dat = ProcessEverfest(festivalPage = festivalPage)\n",
    "dat"
   ]
  },
  {
   "cell_type": "code",
   "execution_count": null,
   "metadata": {},
   "outputs": [],
   "source": [
    "for i in festival.find_all(class_='ReviewSection__Root-sc-189472c-0 icjcMH'):\n",
    "            if 'Overall:' in i.getText().strip():\n",
    "                reviews['Overall_Review'] = i.getText().replace('Overall:', '').replace('\\xa0', '').strip()\n",
    "            if 'Pros:' in i.getText().strip():\n",
    "                reviews['Pros_Review'] = i.getText().replace('Pros:', '').replace('\\xa0', '').strip()\n",
    "            if 'Cons:' in i.getText().strip():\n",
    "                reviews['Cons_Review'] = i.getText().replace('Cons:', '').replace('\\xa0', '').strip()\n",
    "            if 'Alternatives Considered:' in i.getText().strip():\n",
    "                reviews['alternative'] = i.getText().replace('Alternatives Considered:', '')\\\n",
    "                                                    .replace('\\xa0', '').strip()\n",
    "            if 'Reasons for Choosing' in i.getText().strip():\n",
    "                reviews['reasons_choosing'] = i.getText().replace('Reasons for Choosing ' + Company_str + ':', '')\\\n",
    "                                                    .replace('\\xa0', '').strip()\n",
    "            if 'Reasons for Switching' in i.getText().strip():\n",
    "                reviews['reasons_choosing'] = i.getText().replace('Reasons for Switching to ' + Company_str + ':', '')\\\n",
    "                                                    .replace('\\xa0', '').strip()\n",
    "        for i in review.find_all(class_='ReviewSource__HalfUnitMarginDiv-lnjke6-1 hiJhEB'):\n",
    "            if 'Source' not in i.getText().strip():\n",
    "                reviews['Date'] = i.getText().replace('\\xa0', '').strip()"
   ]
  },
  {
   "cell_type": "code",
   "execution_count": null,
   "metadata": {},
   "outputs": [],
   "source": [
    "/html/body/div[5]/div/div[1]/ul/li[8]/a\n",
    "/html/body/div[5]/div/div[1]/ul/li[9]/a\n",
    "//*[@id=\"pages\"]/div[5]/div/div[1]/ul/li[9]\n",
    "//*[@id=\"pages\"]/div[5]/div/div[1]/ul/li[6]"
   ]
  }
 ],
 "metadata": {
  "kernelspec": {
   "display_name": "Python 3",
   "language": "python",
   "name": "python3"
  },
  "language_info": {
   "codemirror_mode": {
    "name": "ipython",
    "version": 3
   },
   "file_extension": ".py",
   "mimetype": "text/x-python",
   "name": "python",
   "nbconvert_exporter": "python",
   "pygments_lexer": "ipython3",
   "version": "3.8.5"
  }
 },
 "nbformat": 4,
 "nbformat_minor": 4
}
