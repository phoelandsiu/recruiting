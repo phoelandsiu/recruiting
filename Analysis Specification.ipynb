{
 "cells": [
  {
   "cell_type": "markdown",
   "metadata": {},
   "source": [
    "<font size=2;>\n",
    "<p style=\"text-align: right;\">\n",
    "Final Exam Solution\n",
    "</p>\n",
    "</font>"
   ]
  },
  {
   "cell_type": "markdown",
   "metadata": {},
   "source": [
    "![](banner.jpg)\n",
    "\n",
    "# UGBA 88 Analysis Specification for Final Exam \n",
    "\n",
    "**Haas School of Business, UC Berkeley, Fall 2020**\n",
    "\n",
    "This analysis specification is located at ugba88.haas.berkeley.edu > shared > EXAM.  Copy the EXAM folder to your my-work folder and open Analysis Specification.ipynb.  Address each prompt with python code.  When you have completed your analysis, then answer the questions (and paste a link to your analysis file) at bCourses > Modules > Finals Week > Final Exam.\n",
    "\n",
    "The Rules:\n",
    "\n",
    "* You can use electronics including Haas JupyterHub, notes, course materials, materials found on the internet, and other materials.\n",
    "* Do NOT discuss the exam contents or share your analyses with ANYONE during Mon Dec 14 to Fri Dec 18.\n",
    "* Start any time after exam is released Mon Dec 14.\n",
    "* If you are not clear about any instructions, contact the professor about it right away: rhuntsinger@berkeley.edu\n",
    "* If you encounter any technical system issue, contact the professor about it right away: rhuntsinger@berkeley.edu\n",
    "* Submit your answers and link to analysis any time before Fri Dec 18, 11:59pm PT.\n",
    "\n",
    "BERKELEY HONOR CODE:\n",
    "\"As a member of the UC Berkeley community, I act with honesty, integrity, and respect for others.”"
   ]
  },
  {
   "cell_type": "markdown",
   "metadata": {},
   "source": [
    "## Setup"
   ]
  },
  {
   "cell_type": "code",
   "execution_count": 1,
   "metadata": {},
   "outputs": [],
   "source": [
    "# Import some useful functions\n",
    "from numpy import *\n",
    "from numpy.random import *\n",
    "from datascience import *\n",
    "\n",
    "# Import more useful functions for linear regression\n",
    "from statsmodels.formula.api import *\n",
    "\n",
    "# Customize look of graphics\n",
    "import matplotlib.pyplot as plt\n",
    "plt.style.use('fivethirtyeight')\n",
    "%matplotlib inline\n",
    "\n",
    "# Force display of all values \n",
    "from IPython.core.interactiveshell import InteractiveShell\n",
    "InteractiveShell.ast_node_interactivity = \"all\"\n",
    "\n",
    "# Handle some obnoxious warning messages\n",
    "import warnings\n",
    "warnings.filterwarnings(\"ignore\")"
   ]
  },
  {
   "cell_type": "markdown",
   "metadata": {},
   "source": [
    "## Hospital Planning for Needed Medicine\n",
    "\n",
    "A city hospital treats patients that have certain symptoms using a certain medicine.  In the past, it treated young patients (<18 years old), mid patients (18 to 60 years old), and senior patients (>60 years old) who had the symptoms, and kept a record of how many doses of the medicine were required for each.\n",
    "\n",
    "The city government and hospital have developed a predictive model that estimates that next month the hospital will take in 500 to 1000 young patients, 100 to 200 mid patients, and 200 to 400 senior patients, all who will have the symptoms."
   ]
  },
  {
   "cell_type": "markdown",
   "metadata": {},
   "source": [
    "### Retrieve Data\n",
    "\n",
    "You have a record of the hospital's past treatments available in file 'treatment_history.csv'.\n",
    "\n",
    "Retrieve the record."
   ]
  },
  {
   "cell_type": "code",
   "execution_count": null,
   "metadata": {},
   "outputs": [],
   "source": []
  },
  {
   "cell_type": "markdown",
   "metadata": {},
   "source": [
    "### Analysis\n",
    "\n",
    "Simulate the hospital's next month activity to determine the following:\n",
    "\n",
    "* Assuming that the hospital stocks 6000 doses of medicine, estimate the probability that 100% of patients taken in will get all the needed medicine.\n",
    "\n",
    "* Estimate the minimum stock of medicine required to ensure that 100% of patients taken in will get all the needed medicine.\n",
    "\n",
    "Hint: Account for the treatment record (how many doses each type of patient will need, on average) and the predictive model results (how many of each type of patient will be taken in) in your simulation.\n",
    "\n",
    "Hint: Simulate 10000 trial scenarios for each stock decision.\n",
    "\n",
    "Hint: You can calculate the number of new patients like this:<br>\n",
    "young: `int(500 + random() * 500)` | mid: `int(100 + random() * 100)` | senior: `int(200 + random() * 200)`\n",
    "\n",
    "Hint: You may need to estimate stock requirement through a combination of simulation and trial-and-error. "
   ]
  },
  {
   "cell_type": "code",
   "execution_count": null,
   "metadata": {},
   "outputs": [],
   "source": []
  },
  {
   "cell_type": "markdown",
   "metadata": {},
   "source": [
    "## Networking Equipment Quality\n",
    "\n",
    "A networking equipment company inspected samples of parts sourced from two vendors, noting the number of defects observed in each.  The company is suspicious that the vendors are not providing parts of the same quality, where quality is measured as the average number of defects per part."
   ]
  },
  {
   "cell_type": "markdown",
   "metadata": {},
   "source": [
    "### Retrieve Data"
   ]
  },
  {
   "cell_type": "markdown",
   "metadata": {},
   "source": [
    "Here is the sample of 9 parts provided by Vendor #1:"
   ]
  },
  {
   "cell_type": "code",
   "execution_count": 2,
   "metadata": {},
   "outputs": [
    {
     "data": {
      "text/html": [
       "<table border=\"1\" class=\"dataframe\">\n",
       "    <thead>\n",
       "        <tr>\n",
       "            <th>Part #</th> <th># of Defects Observed</th>\n",
       "        </tr>\n",
       "    </thead>\n",
       "    <tbody>\n",
       "        <tr>\n",
       "            <td>1     </td> <td>1                    </td>\n",
       "        </tr>\n",
       "        <tr>\n",
       "            <td>2     </td> <td>3                    </td>\n",
       "        </tr>\n",
       "        <tr>\n",
       "            <td>3     </td> <td>0                    </td>\n",
       "        </tr>\n",
       "        <tr>\n",
       "            <td>4     </td> <td>0                    </td>\n",
       "        </tr>\n",
       "        <tr>\n",
       "            <td>5     </td> <td>1                    </td>\n",
       "        </tr>\n",
       "        <tr>\n",
       "            <td>6     </td> <td>0                    </td>\n",
       "        </tr>\n",
       "        <tr>\n",
       "            <td>7     </td> <td>1                    </td>\n",
       "        </tr>\n",
       "        <tr>\n",
       "            <td>8     </td> <td>5                    </td>\n",
       "        </tr>\n",
       "        <tr>\n",
       "            <td>9     </td> <td>0                    </td>\n",
       "        </tr>\n",
       "    </tbody>\n",
       "</table>"
      ],
      "text/plain": [
       "Part # | # of Defects Observed\n",
       "1      | 1\n",
       "2      | 3\n",
       "3      | 0\n",
       "4      | 0\n",
       "5      | 1\n",
       "6      | 0\n",
       "7      | 1\n",
       "8      | 5\n",
       "9      | 0"
      ]
     },
     "execution_count": 2,
     "metadata": {},
     "output_type": "execute_result"
    }
   ],
   "source": [
    "Table().with_columns(\"Part #\", arange(1,10), \"# of Defects Observed\", make_array(1, 3, 0, 0, 1, 0, 1, 5, 0))"
   ]
  },
  {
   "cell_type": "markdown",
   "metadata": {},
   "source": [
    "Here is the sample of 10 parts provided by Vendor #2:"
   ]
  },
  {
   "cell_type": "code",
   "execution_count": 3,
   "metadata": {},
   "outputs": [
    {
     "data": {
      "text/html": [
       "<table border=\"1\" class=\"dataframe\">\n",
       "    <thead>\n",
       "        <tr>\n",
       "            <th>Part #</th> <th># of Defects Observed</th>\n",
       "        </tr>\n",
       "    </thead>\n",
       "    <tbody>\n",
       "        <tr>\n",
       "            <td>1     </td> <td>1                    </td>\n",
       "        </tr>\n",
       "        <tr>\n",
       "            <td>2     </td> <td>1                    </td>\n",
       "        </tr>\n",
       "        <tr>\n",
       "            <td>3     </td> <td>1                    </td>\n",
       "        </tr>\n",
       "        <tr>\n",
       "            <td>4     </td> <td>0                    </td>\n",
       "        </tr>\n",
       "        <tr>\n",
       "            <td>5     </td> <td>0                    </td>\n",
       "        </tr>\n",
       "        <tr>\n",
       "            <td>6     </td> <td>0                    </td>\n",
       "        </tr>\n",
       "        <tr>\n",
       "            <td>7     </td> <td>0                    </td>\n",
       "        </tr>\n",
       "        <tr>\n",
       "            <td>8     </td> <td>1                    </td>\n",
       "        </tr>\n",
       "        <tr>\n",
       "            <td>9     </td> <td>2                    </td>\n",
       "        </tr>\n",
       "        <tr>\n",
       "            <td>10    </td> <td>0                    </td>\n",
       "        </tr>\n",
       "    </tbody>\n",
       "</table>"
      ],
      "text/plain": [
       "Part # | # of Defects Observed\n",
       "1      | 1\n",
       "2      | 1\n",
       "3      | 1\n",
       "4      | 0\n",
       "5      | 0\n",
       "6      | 0\n",
       "7      | 0\n",
       "8      | 1\n",
       "9      | 2\n",
       "10     | 0"
      ]
     },
     "execution_count": 3,
     "metadata": {},
     "output_type": "execute_result"
    }
   ],
   "source": [
    "Table().with_columns(\"Part #\", arange(1,11), \"# of Defects Observed\", make_array(1, 1, 1, 0, 0, 0, 0, 1, 2, 0))"
   ]
  },
  {
   "cell_type": "markdown",
   "metadata": {},
   "source": [
    "### Analysis\n",
    "\n",
    "Use a 2-sample t hypothesis test to determine whether the vendors are providing parts of the same quality.  Show the p-value to justify your conclusion."
   ]
  },
  {
   "cell_type": "code",
   "execution_count": null,
   "metadata": {},
   "outputs": [],
   "source": []
  },
  {
   "cell_type": "markdown",
   "metadata": {},
   "source": [
    "## Planning for Manufacturing Generator Replacement\n",
    "\n",
    "A manufacturing company uses a special generator, which operates at an efficiency level that degrades over time.  Maintenance is applied to the generator every 21 days, which improves the efficiency level somewhat.  Immediately following maintenance, however, the efficiency level continues to degrade."
   ]
  },
  {
   "cell_type": "markdown",
   "metadata": {},
   "source": [
    "### Retrieve Data\n",
    "\n",
    "You have a record of the generator's efficiency level for the past 84 days available in file 'machine.csv'.\n",
    "\n",
    "Retrieve the record.  Show the record as a table (the first 10 rows).  Visualize the record as a lineplot."
   ]
  },
  {
   "cell_type": "code",
   "execution_count": null,
   "metadata": {
    "scrolled": false
   },
   "outputs": [],
   "source": []
  },
  {
   "cell_type": "markdown",
   "metadata": {},
   "source": [
    "### Analysis"
   ]
  },
  {
   "cell_type": "markdown",
   "metadata": {},
   "source": [
    "Construct a simple linear regression model to predict efficiency, based on the record for the first 21 days.  The model R^2 should exceed 99%.  Visualize the predicted efficiency overlayed on the record for the first 21 days as a lineplot.  What efficiency does the model predict for the 21st day?\n",
    "\n",
    "Note that the data pattern is not linear, but it may be logarithmic."
   ]
  },
  {
   "cell_type": "code",
   "execution_count": null,
   "metadata": {},
   "outputs": [],
   "source": []
  },
  {
   "cell_type": "markdown",
   "metadata": {},
   "source": [
    "Construct a simple linear regression model to expose the trend, based on the entire record.  The model R^2 should exceed 58%.  Visualize the trend overlayed on the entire record as a lineplot.  What efficiency does the model predict for 84th day?\n",
    "\n",
    "Note that the trend is not linear, but it may logarithmic."
   ]
  },
  {
   "cell_type": "code",
   "execution_count": null,
   "metadata": {},
   "outputs": [],
   "source": []
  },
  {
   "cell_type": "markdown",
   "metadata": {},
   "source": [
    "Construct a multiple linear regression model to predict efficiency, based on the entire record.  The model should account for the recurring 21-day pattern and the trend.  The model R^2 should exceed 99%.  Visualize the predicted efficiency overlayed on the entire record as a lineplot.  What efficiency does the model predict for the 84th day?\n",
    "\n",
    "Hint: To convert day to day-of-period, you can use `mod(day-1, 21) + 1`"
   ]
  },
  {
   "cell_type": "code",
   "execution_count": null,
   "metadata": {
    "scrolled": false
   },
   "outputs": [],
   "source": []
  },
  {
   "cell_type": "markdown",
   "metadata": {},
   "source": [
    "Use the multiple linear regression model to predict efficiency for the next two 21-day periods (days 85 through 127).  Visualize the predicted efficiency as a lineplot.  What efficiency does the model predict for the 127th day? "
   ]
  },
  {
   "cell_type": "code",
   "execution_count": null,
   "metadata": {},
   "outputs": [],
   "source": []
  },
  {
   "cell_type": "markdown",
   "metadata": {},
   "source": [
    "Use the multiple linear regression model to predict which day the generator operation will fall below a 0.73 efficiency level."
   ]
  },
  {
   "cell_type": "code",
   "execution_count": null,
   "metadata": {
    "scrolled": true
   },
   "outputs": [],
   "source": []
  },
  {
   "cell_type": "markdown",
   "metadata": {},
   "source": [
    "## Submission\n",
    "\n",
    "Remember to answer the questions (and paste a link to your analysis file) at bCourses > Modules > Finals Week > Final Exam."
   ]
  },
  {
   "cell_type": "markdown",
   "metadata": {},
   "source": [
    "<p style=\"text-align:left; font-size:10px;\">\n",
    "Copyright (c) Berkeley Data Analytics Group, LLC\n",
    "<span style=\"float:right;\">\n",
    "Document revised Dec 13, 2020\n",
    "</span>\n",
    "</p>"
   ]
  }
 ],
 "metadata": {
  "kernelspec": {
   "display_name": "Python 3",
   "language": "python",
   "name": "python3"
  },
  "language_info": {
   "codemirror_mode": {
    "name": "ipython",
    "version": 3
   },
   "file_extension": ".py",
   "mimetype": "text/x-python",
   "name": "python",
   "nbconvert_exporter": "python",
   "pygments_lexer": "ipython3",
   "version": "3.7.4"
  },
  "toc": {
   "base_numbering": 1,
   "nav_menu": {},
   "number_sections": true,
   "sideBar": true,
   "skip_h1_title": true,
   "title_cell": "Table of Contents",
   "title_sidebar": "Contents",
   "toc_cell": false,
   "toc_position": {
    "height": "calc(100% - 180px)",
    "left": "10px",
    "top": "150px",
    "width": "256.25px"
   },
   "toc_section_display": true,
   "toc_window_display": true
  }
 },
 "nbformat": 4,
 "nbformat_minor": 2
}
